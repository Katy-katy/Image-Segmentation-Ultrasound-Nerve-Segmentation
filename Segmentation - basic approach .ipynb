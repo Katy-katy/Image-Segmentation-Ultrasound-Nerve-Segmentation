{
 "cells": [
  {
   "cell_type": "markdown",
   "metadata": {},
   "source": [
    "# Ultrasound Nerve Segmentation\n",
    "## Identify nerve structures in ultrasound images of the neck\n",
    "\n",
    "The dataset is from a popular Kaggle competition: \n",
    "https://www.kaggle.com/c/ultrasound-nerve-segmentation/\n",
    "\n",
    "It is a very basic approach - I did it just to be sure that my ccn works.\n",
    "\n",
    "I am using resized images (32 by 32) and a very simple cnn:\n",
    "* convolution layer with kernel 3 by 3 and 32 filters\n",
    "* max pool 2 by 2\n",
    "* convolution layer with kernel 3 by 3 and 64 filters\n",
    "* upsampling using tf.image.resize_nearest_neighbor \n",
    "* convolution layer with kernel 3 by 3 and 32 filters\n",
    "* the very last layer is a convolution layer with 1 filter and kernel 1 by 1 that help me to get 2D prediction (our mask is black and withe)"
   ]
  },
  {
   "cell_type": "code",
   "execution_count": 1,
   "metadata": {
    "collapsed": true
   },
   "outputs": [],
   "source": [
    "import pandas as pd\n",
    "import numpy as np\n",
    "import matplotlib.pyplot as plt\n",
    "import matplotlib.image as mpimg\n",
    "%matplotlib inline\n",
    "\n",
    "import csv\n",
    "from os import listdir\n",
    "from os.path import isfile, isdir, join, splitext\n",
    "import random\n",
    "import tensorflow as tf\n",
    "from sklearn.preprocessing import LabelEncoder\n",
    "from PIL import Image\n",
    "from skimage.transform import rescale, resize, downscale_local_mean\n",
    "from skimage import data, color"
   ]
  },
  {
   "cell_type": "code",
   "execution_count": 44,
   "metadata": {
    "collapsed": true
   },
   "outputs": [],
   "source": [
    "train = pd.read_csv(\"tr_data.csv\")\n",
    "n_train = train.shape[0]\n",
    "\n",
    "test = pd.read_csv(\"test_data.csv\")\n",
    "n_test = test.shape[0]"
   ]
  },
  {
   "cell_type": "code",
   "execution_count": 45,
   "metadata": {},
   "outputs": [
    {
     "data": {
      "text/html": [
       "<div>\n",
       "<style>\n",
       "    .dataframe thead tr:only-child th {\n",
       "        text-align: right;\n",
       "    }\n",
       "\n",
       "    .dataframe thead th {\n",
       "        text-align: left;\n",
       "    }\n",
       "\n",
       "    .dataframe tbody tr th {\n",
       "        vertical-align: top;\n",
       "    }\n",
       "</style>\n",
       "<table border=\"1\" class=\"dataframe\">\n",
       "  <thead>\n",
       "    <tr style=\"text-align: right;\">\n",
       "      <th></th>\n",
       "      <th>image</th>\n",
       "      <th>mask</th>\n",
       "    </tr>\n",
       "  </thead>\n",
       "  <tbody>\n",
       "    <tr>\n",
       "      <th>0</th>\n",
       "      <td>1_106.tif</td>\n",
       "      <td>1_106_mask.tif</td>\n",
       "    </tr>\n",
       "    <tr>\n",
       "      <th>1</th>\n",
       "      <td>1_64.tif</td>\n",
       "      <td>1_64_mask.tif</td>\n",
       "    </tr>\n",
       "    <tr>\n",
       "      <th>2</th>\n",
       "      <td>1_74.tif</td>\n",
       "      <td>1_74_mask.tif</td>\n",
       "    </tr>\n",
       "  </tbody>\n",
       "</table>\n",
       "</div>"
      ],
      "text/plain": [
       "       image            mask\n",
       "0  1_106.tif  1_106_mask.tif\n",
       "1   1_64.tif   1_64_mask.tif\n",
       "2   1_74.tif   1_74_mask.tif"
      ]
     },
     "execution_count": 45,
     "metadata": {},
     "output_type": "execute_result"
    }
   ],
   "source": [
    "train.head(3)"
   ]
  },
  {
   "cell_type": "code",
   "execution_count": 46,
   "metadata": {
    "collapsed": true
   },
   "outputs": [],
   "source": [
    "ims_train = []\n",
    "for i in train['image']:\n",
    "    a = Image.open('train_subset/' + i)\n",
    "    a = a.resize((32,32))\n",
    "    a=np.array(a)\n",
    "    ims_train.append(a)\n",
    "ims_train = np.array(ims_train)\n",
    "ims_train = ims_train.reshape(500, 32,32, 1)\n",
    "ims_train = ims_train/255\n",
    "ims_train = np.array( ims_train, dtype=np.float32 ) "
   ]
  },
  {
   "cell_type": "code",
   "execution_count": 47,
   "metadata": {},
   "outputs": [
    {
     "data": {
      "text/plain": [
       "(500, 32, 32, 1)"
      ]
     },
     "execution_count": 47,
     "metadata": {},
     "output_type": "execute_result"
    }
   ],
   "source": [
    "ims_train.shape"
   ]
  },
  {
   "cell_type": "code",
   "execution_count": 48,
   "metadata": {
    "collapsed": true
   },
   "outputs": [],
   "source": [
    "ms_train = []\n",
    "for i in train['mask']:\n",
    "    a = Image.open('train_subset/' + i)\n",
    "    a = a.resize((32,32))\n",
    "    a=np.array(a)\n",
    "    ms_train.append(a)\n",
    "ms_train = np.array(ms_train)\n",
    "ms_train = ms_train.reshape(500, 32,32, 1)\n",
    "ms_train = ms_train/255\n",
    "ms_train = np.array(ms_train, dtype=np.float32 ) "
   ]
  },
  {
   "cell_type": "code",
   "execution_count": 49,
   "metadata": {},
   "outputs": [
    {
     "data": {
      "text/plain": [
       "(500, 32, 32, 1)"
      ]
     },
     "execution_count": 49,
     "metadata": {},
     "output_type": "execute_result"
    }
   ],
   "source": [
    "ms_train.shape"
   ]
  },
  {
   "cell_type": "code",
   "execution_count": 50,
   "metadata": {},
   "outputs": [
    {
     "data": {
      "text/plain": [
       "(99, 32, 32, 1)"
      ]
     },
     "execution_count": 50,
     "metadata": {},
     "output_type": "execute_result"
    }
   ],
   "source": [
    "ims_test = []\n",
    "for i in test['image']:\n",
    "    a = Image.open('train_subset/' + i)\n",
    "    a = a.resize((32,32))\n",
    "    a=np.array(a)\n",
    "    ims_test.append(a)\n",
    "ims_test = np.array(ims_test)\n",
    "ims_test = ims_test.reshape(-1, 32,32,1)\n",
    "ims_test = ims_test/255\n",
    "ims_test = np.array( ims_test, dtype=np.float32 ) \n",
    "ims_test.shape"
   ]
  },
  {
   "cell_type": "code",
   "execution_count": 51,
   "metadata": {},
   "outputs": [
    {
     "data": {
      "text/plain": [
       "(99, 32, 32, 1)"
      ]
     },
     "execution_count": 51,
     "metadata": {},
     "output_type": "execute_result"
    }
   ],
   "source": [
    "ms_test = []\n",
    "for i in test['mask']:\n",
    "    a = Image.open('train_subset/' + i)\n",
    "    a = a.resize((32,32))\n",
    "    a=np.array(a)\n",
    "    ms_test.append(a)\n",
    "ms_test = np.array(ms_test)\n",
    "ms_test = ms_test.reshape(-1, 32,32,1)\n",
    "ms_test = ms_test/255\n",
    "ms_test = np.array(ms_test, dtype=np.float32 ) \n",
    "ms_test.shape"
   ]
  },
  {
   "cell_type": "code",
   "execution_count": 121,
   "metadata": {},
   "outputs": [
    {
     "data": {
      "text/plain": [
       "<matplotlib.image.AxesImage at 0x1c1f7732b0>"
      ]
     },
     "execution_count": 121,
     "metadata": {},
     "output_type": "execute_result"
    },
    {
     "data": {
      "image/png": "[encoded data removed]",
      "text/plain": [
       "<matplotlib.figure.Figure at 0x1c1f2c76a0>"
      ]
     },
     "metadata": {},
     "output_type": "display_data"
    }
   ],
   "source": [
    "img = Image.open('train_subset/1_106.tif')\n",
    "#img = img.resize((32,32))\n",
    "plt.imshow(img, cmap='gist_gray')"
   ]
  },
  {
   "cell_type": "code",
   "execution_count": 122,
   "metadata": {},
   "outputs": [
    {
     "data": {
      "text/plain": [
       "<matplotlib.image.AxesImage at 0x1c1f46fa90>"
      ]
     },
     "execution_count": 122,
     "metadata": {},
     "output_type": "execute_result"
    },
    {
     "data": {
      "image/png": "[encoded data removed]",
      "text/plain": [
       "<matplotlib.figure.Figure at 0x1c1f79f940>"
      ]
     },
     "metadata": {},
     "output_type": "display_data"
    }
   ],
   "source": [
    "img = Image.open('train_subset/1_106_mask.tif')\n",
    "#img = img.resize((32,32))\n",
    "plt.imshow(img, cmap='gist_gray')"
   ]
  },
  {
   "cell_type": "code",
   "execution_count": 75,
   "metadata": {
    "collapsed": true
   },
   "outputs": [],
   "source": [
    "x = tf.placeholder(tf.float32,shape=[None,32,32,1])\n",
    "#y_true = tf.placeholder(tf.float32,shape=[None,10])\n",
    "y = tf.placeholder(tf.float32, shape=[None, 32,32, 1])"
   ]
  },
  {
   "cell_type": "code",
   "execution_count": 76,
   "metadata": {
    "collapsed": true
   },
   "outputs": [],
   "source": [
    "hold_prob = tf.placeholder(tf.float32)"
   ]
  },
  {
   "cell_type": "markdown",
   "metadata": {},
   "source": [
    "### Helper Functions"
   ]
  },
  {
   "cell_type": "code",
   "execution_count": 77,
   "metadata": {
    "collapsed": true
   },
   "outputs": [],
   "source": [
    "def init_weights(shape):\n",
    "    init_random_dist = tf.truncated_normal(shape, stddev=0.1)\n",
    "    return tf.Variable(init_random_dist)\n",
    "\n",
    "def init_bias(shape):\n",
    "    init_bias_vals = tf.constant(0.1, shape=shape)\n",
    "    return tf.Variable(init_bias_vals)\n",
    "\n",
    "def conv2d(x, W):\n",
    "    return tf.nn.conv2d(x, W, strides=[1, 1, 1, 1], padding='SAME')\n",
    "\n",
    "def max_pool_2by2(x):\n",
    "    return tf.nn.max_pool(x, ksize=[1, 2, 2, 1],\n",
    "                          strides=[1, 2, 2, 1], padding='SAME')\n",
    "\n",
    "def convolutional_layer(input_x, shape):\n",
    "    W = init_weights(shape)\n",
    "    b = init_bias([shape[3]])\n",
    "    return tf.nn.relu(conv2d(input_x, W) + b)\n",
    "\n",
    "def normal_full_layer(input_layer, size):\n",
    "    input_size = int(input_layer.get_shape()[1])\n",
    "    W = init_weights([input_size, size])\n",
    "    b = init_bias([size])\n",
    "    return tf.matmul(input_layer, W) + b"
   ]
  },
  {
   "cell_type": "markdown",
   "metadata": {},
   "source": [
    "Next three function were taken form https://github.com/kkweon/UNet-in-Tensorflow/blob/master/train.py"
   ]
  },
  {
   "cell_type": "code",
   "execution_count": 78,
   "metadata": {
    "collapsed": true
   },
   "outputs": [],
   "source": [
    "def upsampling_2D(tensor,  size=(2, 2)):\n",
    "    \"\"\"Upsample/Rescale `tensor` by size\n",
    "    Args:\n",
    "        tensor (4-D Tensor): (N, H, W, C)\n",
    "        name (str): name of upsampling operations\n",
    "        size (tuple, optional): (height_multiplier, width_multiplier)\n",
    "            (default: (2, 2))\n",
    "    Returns:\n",
    "        output (4-D Tensor): (N, h_multiplier * H, w_multiplier * W, C)\n",
    "    \"\"\"\n",
    "    H, W, _ = tensor.get_shape().as_list()[1:]\n",
    "\n",
    "    H_multi, W_multi = size\n",
    "    target_H = H * H_multi\n",
    "    target_W = W * W_multi\n",
    "\n",
    "    return tf.image.resize_nearest_neighbor(tensor, (target_H, target_W))"
   ]
  },
  {
   "cell_type": "code",
   "execution_count": 79,
   "metadata": {
    "collapsed": true
   },
   "outputs": [],
   "source": [
    "def upsample_concat(inputA, input_B):\n",
    "    \"\"\"Upsample `inputA` and concat with `input_B`\n",
    "    Args:\n",
    "        input_A (4-D Tensor): (N, H, W, C)\n",
    "        input_B (4-D Tensor): (N, 2*H, 2*H, C2)\n",
    "        name (str): name of the concat operation\n",
    "    Returns:\n",
    "        output (4-D Tensor): (N, 2*H, 2*W, C + C2)\n",
    "    \"\"\"\n",
    "    upsample = upsampling_2D(inputA, size=(2, 2))\n",
    "\n",
    "    return tf.concat([upsample, input_B], axis=-1)"
   ]
  },
  {
   "cell_type": "code",
   "execution_count": 80,
   "metadata": {
    "collapsed": true
   },
   "outputs": [],
   "source": [
    "def IOU_(y_pred, y_true):\n",
    "    \"\"\"Returns a (approx) IOU score\n",
    "    intesection = y_pred.flatten() * y_true.flatten()\n",
    "    Then, IOU = 2 * intersection / (y_pred.sum() + y_true.sum() + 1e-7) + 1e-7\n",
    "    Args:\n",
    "        y_pred (4-D array): (N, H, W, 1)\n",
    "        y_true (4-D array): (N, H, W, 1)\n",
    "    Returns:\n",
    "        float: IOU score\n",
    "    \"\"\"\n",
    "    H, W, _ = y_pred.get_shape().as_list()[1:]\n",
    "\n",
    "    pred_flat = tf.reshape(y_pred, [-1, H * W])\n",
    "    true_flat = tf.reshape(y_true, [-1, H * W])\n",
    "\n",
    "    intersection = 2 * tf.reduce_sum(pred_flat * true_flat, axis=1) + 1e-7\n",
    "    denominator = tf.reduce_sum(pred_flat, axis=1) + tf.reduce_sum(true_flat, axis=1) + 1e-7\n",
    "\n",
    "    return tf.reduce_mean(intersection / denominator)"
   ]
  },
  {
   "cell_type": "markdown",
   "metadata": {},
   "source": [
    "### Create the Layers\n",
    "\n",
    "** Create a convolutional layer and a pooling layer as we did for MNIST. **\n",
    "** Its up to you what the 2d size of the convolution should be, but the last two digits need to be 3 and 32 because of the 3 color channels and 32 pixels. So for example you could use:**\n",
    "\n",
    "        convo_1 = convolutional_layer(x,shape=[4,4,3,32])"
   ]
  },
  {
   "cell_type": "code",
   "execution_count": 152,
   "metadata": {
    "collapsed": true
   },
   "outputs": [],
   "source": [
    "convo_1 = convolutional_layer(x,shape=[3,3,1,32])\n",
    "convo_1_pooling = max_pool_2by2(convo_1)"
   ]
  },
  {
   "cell_type": "markdown",
   "metadata": {},
   "source": [
    "** Create the next convolutional and pooling layers.  The last two dimensions of the convo_2 layer should be 32,64 **"
   ]
  },
  {
   "cell_type": "code",
   "execution_count": 153,
   "metadata": {
    "collapsed": true
   },
   "outputs": [],
   "source": [
    "convo_2 = convolutional_layer(convo_1_pooling,shape=[3,3,32,64]) # images 16*16\n",
    "#convo_2_pooling = max_pool_2by2(convo_2)"
   ]
  },
  {
   "cell_type": "code",
   "execution_count": 154,
   "metadata": {
    "collapsed": true
   },
   "outputs": [],
   "source": [
    "up_1 = upsample_concat(convo_2, convo_1) # image 32*32\n",
    "convo_3 = convolutional_layer(up_1,shape=[3,3,96,32])"
   ]
  },
  {
   "cell_type": "code",
   "execution_count": 155,
   "metadata": {
    "collapsed": true
   },
   "outputs": [],
   "source": [
    "# training prediction\n",
    "pred = tf.layers.conv2d(convo_3, 1, (1, 1), activation=tf.nn.sigmoid, padding='same')"
   ]
  },
  {
   "cell_type": "code",
   "execution_count": 156,
   "metadata": {
    "collapsed": true
   },
   "outputs": [],
   "source": [
    "loss = -IOU_(pred, y)\n",
    "optim = tf.train.AdamOptimizer(learning_rate=0.001)\n",
    "train = optim.minimize(loss)"
   ]
  },
  {
   "cell_type": "code",
   "execution_count": 157,
   "metadata": {
    "collapsed": true
   },
   "outputs": [],
   "source": [
    "init = tf.global_variables_initializer()"
   ]
  },
  {
   "cell_type": "code",
   "execution_count": 172,
   "metadata": {},
   "outputs": [
    {
     "name": "stdout",
     "output_type": "stream",
     "text": [
      "Minibatch loss at step 0: -0.022406\n",
      "Currently on step 0\n",
      "Accuracy is:\n",
      "-0.0143336\n",
      "\n",
      "\n",
      "Minibatch loss at step 50: -0.042118\n",
      "Currently on step 50\n",
      "Accuracy is:\n",
      "-0.048956\n",
      "\n",
      "\n",
      "Minibatch loss at step 100: -0.013680\n",
      "Currently on step 100\n",
      "Accuracy is:\n",
      "-0.0955926\n",
      "\n",
      "\n",
      "Minibatch loss at step 150: -0.132457\n",
      "Currently on step 150\n",
      "Accuracy is:\n",
      "-0.0838636\n",
      "\n",
      "\n",
      "Minibatch loss at step 200: -0.178224\n",
      "Currently on step 200\n",
      "Accuracy is:\n",
      "-0.114119\n",
      "\n",
      "\n",
      "Minibatch loss at step 250: -0.126784\n",
      "Currently on step 250\n",
      "Accuracy is:\n",
      "-0.104243\n",
      "\n",
      "\n",
      "Minibatch loss at step 300: -0.124960\n",
      "Currently on step 300\n",
      "Accuracy is:\n",
      "-0.112746\n",
      "\n",
      "\n",
      "Minibatch loss at step 350: -0.095188\n",
      "Currently on step 350\n",
      "Accuracy is:\n",
      "-0.126032\n",
      "\n",
      "\n",
      "Minibatch loss at step 400: -0.183895\n",
      "Currently on step 400\n",
      "Accuracy is:\n",
      "-0.128814\n",
      "\n",
      "\n",
      "Minibatch loss at step 450: -0.084558\n",
      "Currently on step 450\n",
      "Accuracy is:\n",
      "-0.126254\n",
      "\n",
      "\n",
      "Minibatch loss at step 500: -0.031854\n",
      "Currently on step 500\n",
      "Accuracy is:\n",
      "-0.135872\n",
      "\n",
      "\n",
      "Minibatch loss at step 550: -0.129568\n",
      "Currently on step 550\n",
      "Accuracy is:\n",
      "-0.137121\n",
      "\n",
      "\n",
      "Minibatch loss at step 600: -0.228835\n",
      "Currently on step 600\n",
      "Accuracy is:\n",
      "-0.137322\n",
      "\n",
      "\n",
      "Minibatch loss at step 650: -0.134799\n",
      "Currently on step 650\n",
      "Accuracy is:\n",
      "-0.131788\n",
      "\n",
      "\n",
      "Minibatch loss at step 700: -0.024282\n",
      "Currently on step 700\n",
      "Accuracy is:\n",
      "-0.138093\n",
      "\n",
      "\n",
      "Minibatch loss at step 750: -0.218458\n",
      "Currently on step 750\n",
      "Accuracy is:\n",
      "-0.140138\n",
      "\n",
      "\n",
      "Minibatch loss at step 800: -0.241238\n",
      "Currently on step 800\n",
      "Accuracy is:\n",
      "-0.137828\n",
      "\n",
      "\n",
      "Minibatch loss at step 850: -0.180356\n",
      "Currently on step 850\n",
      "Accuracy is:\n",
      "-0.147259\n",
      "\n",
      "\n",
      "Minibatch loss at step 900: -0.171879\n",
      "Currently on step 900\n",
      "Accuracy is:\n",
      "-0.152469\n",
      "\n",
      "\n",
      "Minibatch loss at step 950: -0.135621\n",
      "Currently on step 950\n",
      "Accuracy is:\n",
      "-0.153557\n",
      "\n",
      "\n"
     ]
    }
   ],
   "source": [
    "sess = tf.InteractiveSession()\n",
    "sess.run(tf.global_variables_initializer())\n",
    "\n",
    "loss_train = []\n",
    "loss_test = []\n",
    "for i in range(1000):\n",
    "        offset = (i * 20) % (ims_train.shape[0] - 20) # 20 is the batch size\n",
    "        batch_x = ims_train[offset:(offset + 20), :]\n",
    "        batch_y = ms_train[offset:(offset + 20), :]\n",
    "        _, l, predictions = sess.run([train, loss, pred], feed_dict={x: batch_x, y: batch_y})\n",
    "        \n",
    "        # PRINT OUT A MESSAGE EVERY 50 STEPS\n",
    "        if i%50 == 0:\n",
    "            loss_train.append(l)\n",
    "            print(\"Minibatch loss at step %d: %f\" % (i, l))\n",
    "            print('Currently on step {}'.format(i))\n",
    "            print('Accuracy is:')\n",
    "            # Test the Train Model\n",
    "            matches = tf.equal(tf.argmax(pred,1),tf.argmax(y,1))\n",
    "\n",
    "            acc = tf.reduce_mean(tf.cast(matches,tf.float32))\n",
    "\n",
    "            test_l = sess.run(loss, feed_dict={x:ims_test,y:ms_test,hold_prob:1.0})\n",
    "            print(test_l)\n",
    "            print('\\n')\n",
    "            loss_test.append(test_l)\n",
    "            \n",
    "output= sess.run(pred,feed_dict={x: ims_test}) "
   ]
  },
  {
   "cell_type": "code",
   "execution_count": 173,
   "metadata": {},
   "outputs": [
    {
     "data": {
      "image/png": "[encoded data removed]",
      "text/plain": [
       "<matplotlib.figure.Figure at 0x1c24e57160>"
      ]
     },
     "metadata": {},
     "output_type": "display_data"
    }
   ],
   "source": [
    "fig, ax = plt.subplots(1,1)\n",
    "ax.plot(loss_train, color='b', label=\"Training loss\")\n",
    "ax.plot(loss_test, color='r', label=\"validation loss\",axes =ax)\n",
    "legend = ax.legend(loc='best', shadow=True)"
   ]
  },
  {
   "cell_type": "markdown",
   "metadata": {},
   "source": [
    "Looking at this graph I would say that we need to decrease the learning rate and increase the number of steps."
   ]
  },
  {
   "cell_type": "code",
   "execution_count": 158,
   "metadata": {},
   "outputs": [
    {
     "name": "stdout",
     "output_type": "stream",
     "text": [
      "Minibatch loss at step 0: -0.020192\n",
      "Currently on step 0\n",
      "Accuracy is:\n",
      "0.00189394\n",
      "\n",
      "\n",
      "Minibatch loss at step 50: -0.047679\n",
      "Currently on step 50\n",
      "Accuracy is:\n",
      "0.0287247\n",
      "\n",
      "\n",
      "Minibatch loss at step 100: -0.011333\n",
      "Currently on step 100\n",
      "Accuracy is:\n",
      "0.0460859\n",
      "\n",
      "\n",
      "Minibatch loss at step 150: -0.135714\n",
      "Currently on step 150\n",
      "Accuracy is:\n",
      "0.0697601\n",
      "\n",
      "\n",
      "Minibatch loss at step 200: -0.170044\n",
      "Currently on step 200\n",
      "Accuracy is:\n",
      "0.0991162\n",
      "\n",
      "\n",
      "Minibatch loss at step 250: -0.122891\n",
      "Currently on step 250\n",
      "Accuracy is:\n",
      "0.146465\n",
      "\n",
      "\n",
      "Minibatch loss at step 300: -0.141432\n",
      "Currently on step 300\n",
      "Accuracy is:\n",
      "0.171402\n",
      "\n",
      "\n",
      "Minibatch loss at step 350: -0.093891\n",
      "Currently on step 350\n",
      "Accuracy is:\n",
      "0.122159\n",
      "\n",
      "\n",
      "Minibatch loss at step 400: -0.177966\n",
      "Currently on step 400\n",
      "Accuracy is:\n",
      "0.0988005\n",
      "\n",
      "\n",
      "Minibatch loss at step 450: -0.090490\n",
      "Currently on step 450\n",
      "Accuracy is:\n",
      "0.10101\n",
      "\n",
      "\n",
      "Minibatch loss at step 500: -0.038988\n",
      "Currently on step 500\n",
      "Accuracy is:\n",
      "0.0890151\n",
      "\n",
      "\n",
      "Minibatch loss at step 550: -0.117822\n",
      "Currently on step 550\n",
      "Accuracy is:\n",
      "0.0763889\n",
      "\n",
      "\n",
      "Minibatch loss at step 600: -0.216319\n",
      "Currently on step 600\n",
      "Accuracy is:\n",
      "0.0710227\n",
      "\n",
      "\n",
      "Minibatch loss at step 650: -0.134112\n",
      "Currently on step 650\n",
      "Accuracy is:\n",
      "0.0732323\n",
      "\n",
      "\n",
      "Minibatch loss at step 700: -0.007958\n",
      "Currently on step 700\n",
      "Accuracy is:\n",
      "0.0662879\n",
      "\n",
      "\n",
      "Minibatch loss at step 750: -0.261747\n",
      "Currently on step 750\n",
      "Accuracy is:\n",
      "0.0407197\n",
      "\n",
      "\n",
      "Minibatch loss at step 800: -0.218439\n",
      "Currently on step 800\n",
      "Accuracy is:\n",
      "0.0378788\n",
      "\n",
      "\n",
      "Minibatch loss at step 850: -0.171969\n",
      "Currently on step 850\n",
      "Accuracy is:\n",
      "0.040404\n",
      "\n",
      "\n",
      "Minibatch loss at step 900: -0.202756\n",
      "Currently on step 900\n",
      "Accuracy is:\n",
      "0.0378788\n",
      "\n",
      "\n",
      "Minibatch loss at step 950: -0.132966\n",
      "Currently on step 950\n",
      "Accuracy is:\n",
      "0.0397727\n",
      "\n",
      "\n"
     ]
    }
   ],
   "source": [
    "sess = tf.InteractiveSession()\n",
    "sess.run(tf.global_variables_initializer())\n",
    "\n",
    "for i in range(1000):\n",
    "        offset = (i * 20) % (ims_train.shape[0] - 20) # 20 is the batch size\n",
    "        batch_x = ims_train[offset:(offset + 20), :]\n",
    "        batch_y = ms_train[offset:(offset + 20), :]\n",
    "        _, l, predictions = sess.run([train, loss, pred], feed_dict={x: batch_x, y: batch_y})\n",
    "        \n",
    "        # PRINT OUT A MESSAGE EVERY 5 STEPS\n",
    "        if i%50 == 0:\n",
    "            print(\"Minibatch loss at step %d: %f\" % (i, l))\n",
    "            print('Currently on step {}'.format(i))\n",
    "            print('Accuracy is:')\n",
    "            # Test the Train Model\n",
    "            matches = tf.equal(tf.argmax(pred,1),tf.argmax(y,1))\n",
    "\n",
    "            acc = tf.reduce_mean(tf.cast(matches,tf.float32))\n",
    "\n",
    "            print(sess.run(acc,feed_dict={x:ims_test,y:ms_test,hold_prob:1.0}))\n",
    "            print('\\n')\n",
    "output3= sess.run(pred,feed_dict={x: ims_test}) "
   ]
  },
  {
   "cell_type": "code",
   "execution_count": null,
   "metadata": {
    "collapsed": true
   },
   "outputs": [],
   "source": [
    "# Plot the loss and accuracy curves for training and validation \n",
    "fig, ax = plt.subplots(2,1)\n",
    "ax[0].plot(history.history['loss'], color='b', label=\"Training loss\")\n",
    "ax[0].plot(history.history['val_loss'], color='r', label=\"validation loss\",axes =ax[0])\n",
    "legend = ax[0].legend(loc='best', shadow=True)\n",
    "\n",
    "ax[1].plot(history.history['acc'], color='b', label=\"Training accuracy\")\n",
    "ax[1].plot(history.history['val_acc'], color='r',label=\"Validation accuracy\")\n",
    "legend = ax[1].legend(loc='best', shadow=True)"
   ]
  },
  {
   "cell_type": "markdown",
   "metadata": {},
   "source": [
    "### Predicted Mask"
   ]
  },
  {
   "cell_type": "code",
   "execution_count": 175,
   "metadata": {},
   "outputs": [
    {
     "data": {
      "text/plain": [
       "<matplotlib.image.AxesImage at 0x1c2566c940>"
      ]
     },
     "execution_count": 175,
     "metadata": {},
     "output_type": "execute_result"
    },
    {
     "data": {
      "image/png": "[encoded data removed]",
      "text/plain": [
       "<matplotlib.figure.Figure at 0x1c25f06908>"
      ]
     },
     "metadata": {},
     "output_type": "display_data"
    }
   ],
   "source": [
    "plt.imshow(output[97].reshape(32, 32),cmap='gist_gray')"
   ]
  },
  {
   "cell_type": "markdown",
   "metadata": {},
   "source": [
    "### Actual Mask"
   ]
  },
  {
   "cell_type": "code",
   "execution_count": 139,
   "metadata": {},
   "outputs": [
    {
     "data": {
      "text/plain": [
       "<matplotlib.image.AxesImage at 0x1c20afb6a0>"
      ]
     },
     "execution_count": 139,
     "metadata": {},
     "output_type": "execute_result"
    },
    {
     "data": {
      "image/png": "[encoded data removed]",
      "text/plain": [
       "<matplotlib.figure.Figure at 0x1c2096d9b0>"
      ]
     },
     "metadata": {},
     "output_type": "display_data"
    }
   ],
   "source": [
    "plt.imshow(ms_test[97].reshape(32, 32),cmap='gist_gray')"
   ]
  },
  {
   "cell_type": "markdown",
   "metadata": {},
   "source": [
    "### Image"
   ]
  },
  {
   "cell_type": "code",
   "execution_count": 140,
   "metadata": {},
   "outputs": [
    {
     "data": {
      "text/plain": [
       "<matplotlib.image.AxesImage at 0x1c20bd1da0>"
      ]
     },
     "execution_count": 140,
     "metadata": {},
     "output_type": "execute_result"
    },
    {
     "data": {
      "image/png": "[encoded data removed]",
      "text/plain": [
       "<matplotlib.figure.Figure at 0x1c20b31710>"
      ]
     },
     "metadata": {},
     "output_type": "display_data"
    }
   ],
   "source": [
    "plt.imshow(ims_test[97].reshape(32, 32),cmap='gist_gray')"
   ]
  },
  {
   "cell_type": "markdown",
   "metadata": {
    "collapsed": true
   },
   "source": [
    "## Next steps\n",
    "1. Increase the numbers of layers\n",
    "2. Increse the size of images up to 64 by 64\n",
    "3. Increse the number of iterrations \n",
    "4. Try some different learning rates (I think, we need to decrease it)"
   ]
  },
  {
   "cell_type": "code",
   "execution_count": null,
   "metadata": {
    "collapsed": true
   },
   "outputs": [],
   "source": []
  }
 ],
 "metadata": {
  "kernelspec": {
   "display_name": "Python 3",
   "language": "python",
   "name": "python3"
  },
  "language_info": {
   "codemirror_mode": {
    "name": "ipython",
    "version": 3
   },
   "file_extension": ".py",
   "mimetype": "text/x-python",
   "name": "python",
   "nbconvert_exporter": "python",
   "pygments_lexer": "ipython3",
   "version": "3.6.2"
  }
 },
 "nbformat": 4,
 "nbformat_minor": 2
}
